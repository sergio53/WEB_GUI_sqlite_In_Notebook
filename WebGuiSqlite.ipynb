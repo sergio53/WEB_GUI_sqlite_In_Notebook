{
 "cells": [
  {
   "cell_type": "raw",
   "id": "8c7b0ac6",
   "metadata": {},
   "source": [
    "!git clone https://github.com/cyrilbois/Web-GUI-for-SQLite.git site/site1\n",
    "!git clone https://github.com/inloop/sqlite-viewer.git  site/site2"
   ]
  },
  {
   "cell_type": "markdown",
   "id": "85675947",
   "metadata": {},
   "source": [
    "<hr style=\"border: 10px solid green;  border-radius: 5px;   margin-top: 0px; margin-bottom: 0px;\">"
   ]
  },
  {
   "cell_type": "code",
   "execution_count": 1,
   "id": "3da5dcda",
   "metadata": {},
   "outputs": [
    {
     "data": {
      "application/vnd.jupyter.widget-view+json": {
       "model_id": "0d78a5d7c78143fb9f396476669f1db2",
       "version_major": 2,
       "version_minor": 0
      },
      "text/plain": [
       "HBox(children=(Button(description='run Web GUI for SQLite', layout=Layout(height='30px', width='20%'), style=B…"
      ]
     },
     "metadata": {},
     "output_type": "display_data"
    }
   ],
   "source": [
    "import WebGuiSqlite"
   ]
  },
  {
   "cell_type": "code",
   "execution_count": null,
   "id": "80ba5af3",
   "metadata": {},
   "outputs": [],
   "source": []
  }
 ],
 "metadata": {
  "kernelspec": {
   "display_name": "Python 3 (ipykernel)",
   "language": "python",
   "name": "python3"
  },
  "language_info": {
   "codemirror_mode": {
    "name": "ipython",
    "version": 3
   },
   "file_extension": ".py",
   "mimetype": "text/x-python",
   "name": "python",
   "nbconvert_exporter": "python",
   "pygments_lexer": "ipython3",
   "version": "3.9.15"
  },
  "toc": {
   "base_numbering": 1,
   "nav_menu": {},
   "number_sections": true,
   "sideBar": true,
   "skip_h1_title": false,
   "title_cell": "Table of Contents",
   "title_sidebar": "Contents",
   "toc_cell": false,
   "toc_position": {},
   "toc_section_display": true,
   "toc_window_display": false
  },
  "varInspector": {
   "cols": {
    "lenName": 16,
    "lenType": 16,
    "lenVar": 40
   },
   "kernels_config": {
    "python": {
     "delete_cmd_postfix": "",
     "delete_cmd_prefix": "del ",
     "library": "var_list.py",
     "varRefreshCmd": "print(var_dic_list())"
    },
    "r": {
     "delete_cmd_postfix": ") ",
     "delete_cmd_prefix": "rm(",
     "library": "var_list.r",
     "varRefreshCmd": "cat(var_dic_list()) "
    }
   },
   "types_to_exclude": [
    "module",
    "function",
    "builtin_function_or_method",
    "instance",
    "_Feature"
   ],
   "window_display": false
  }
 },
 "nbformat": 4,
 "nbformat_minor": 5
}
