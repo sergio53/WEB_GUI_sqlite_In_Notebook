{
 "cells": [
  {
   "cell_type": "code",
   "execution_count": null,
   "id": "803b484a",
   "metadata": {},
   "outputs": [],
   "source": [
    "!git clone https://github.com/cyrilbois/Web-GUI-for-SQLite.git site/site1\n",
    "!git clone https://github.com/inloop/sqlite-viewer.git  site/site2"
   ]
  },
  {
   "cell_type": "markdown",
   "id": "85675947",
   "metadata": {},
   "source": [
    "<hr style=\"border: 10px solid green;  border-radius: 5px;   margin-top: 0px; margin-bottom: 0px;\">"
   ]
  },
  {
   "cell_type": "code",
   "execution_count": null,
   "id": "458600b0",
   "metadata": {},
   "outputs": [],
   "source": [
    "%load_ext autoreload\n",
    "%autoreload 2"
   ]
  },
  {
   "cell_type": "code",
   "execution_count": null,
   "id": "4b9bdae8",
   "metadata": {},
   "outputs": [],
   "source": [
    "from WebGuiSqlite import *"
   ]
  },
  {
   "cell_type": "markdown",
   "id": "3cd42aa3",
   "metadata": {},
   "source": [
    "<hr style=\"border: 10px solid green;  border-radius: 5px;   margin-top: 0px; margin-bottom: 0px;\">"
   ]
  },
  {
   "cell_type": "code",
   "execution_count": null,
   "id": "e5596155",
   "metadata": {},
   "outputs": [],
   "source": [
    "os.system(\"pkill -f 'python -m http.server'\")\n",
    "os.system('python -m http.server -d \"site\" 8002 &')"
   ]
  },
  {
   "cell_type": "code",
   "execution_count": null,
   "id": "f046b199",
   "metadata": {},
   "outputs": [],
   "source": [
    "!ps -ef | grep 'python -m http.server' | grep -v grep"
   ]
  },
  {
   "cell_type": "code",
   "execution_count": null,
   "id": "83cac78f",
   "metadata": {},
   "outputs": [],
   "source": [
    "script = '''<script>window.location.assign(\"http://%s:8002/site1/Web-GUI-for-SQLite.html\");</script>''' % socket.gethostname()\n",
    "popup('', cell=script)"
   ]
  },
  {
   "cell_type": "code",
   "execution_count": null,
   "id": "df9d8049",
   "metadata": {},
   "outputs": [],
   "source": [
    "script = '''<script>window.location.assign(\"http://%s:8002/site2/index.html\");</script>''' % socket.gethostname()\n",
    "popup('1000,700', cell=script)"
   ]
  },
  {
   "cell_type": "markdown",
   "id": "560e2ef7",
   "metadata": {},
   "source": [
    "<hr style=\"border: 10px solid green;  border-radius: 5px;   margin-top: 0px; margin-bottom: 0px;\">"
   ]
  },
  {
   "cell_type": "code",
   "execution_count": null,
   "id": "156f1ea6",
   "metadata": {},
   "outputs": [],
   "source": [
    "!pkill -f 'python -m http.server'\n",
    "!ps -ef | grep 'python -m http.server' | grep -v grep"
   ]
  }
 ],
 "metadata": {
  "kernelspec": {
   "display_name": "*Python3* (singularity)",
   "language": "python",
   "name": "python3"
  },
  "language_info": {
   "codemirror_mode": {
    "name": "ipython",
    "version": 3
   },
   "file_extension": ".py",
   "mimetype": "text/x-python",
   "name": "python",
   "nbconvert_exporter": "python",
   "pygments_lexer": "ipython3",
   "version": "3.9.5"
  },
  "varInspector": {
   "cols": {
    "lenName": 16,
    "lenType": 16,
    "lenVar": 40
   },
   "kernels_config": {
    "python": {
     "delete_cmd_postfix": "",
     "delete_cmd_prefix": "del ",
     "library": "var_list.py",
     "varRefreshCmd": "print(var_dic_list())"
    },
    "r": {
     "delete_cmd_postfix": ") ",
     "delete_cmd_prefix": "rm(",
     "library": "var_list.r",
     "varRefreshCmd": "cat(var_dic_list()) "
    }
   },
   "types_to_exclude": [
    "module",
    "function",
    "builtin_function_or_method",
    "instance",
    "_Feature"
   ],
   "window_display": false
  }
 },
 "nbformat": 4,
 "nbformat_minor": 5
}
