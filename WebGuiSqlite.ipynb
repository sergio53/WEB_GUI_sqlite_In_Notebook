{
 "cells": [
  {
   "cell_type": "code",
   "execution_count": null,
   "id": "8a484354",
   "metadata": {},
   "outputs": [],
   "source": [
    "from IPython.display import clear_output, display, HTML\n",
    "display(HTML(\"<style>.container { width:100% !important; }</style>\"))"
   ]
  },
  {
   "cell_type": "code",
   "execution_count": null,
   "id": "61b9e6ce",
   "metadata": {},
   "outputs": [],
   "source": [
    "!git clone https://github.com/cyrilbois/Web-GUI-for-SQLite.git site/site1\n",
    "!git clone https://github.com/inloop/sqlite-viewer.git  site/site2"
   ]
  },
  {
   "cell_type": "markdown",
   "id": "85675947",
   "metadata": {},
   "source": [
    "<hr style=\"border: 10px solid green;  border-radius: 5px;   margin-top: 0px; margin-bottom: 0px;\">"
   ]
  },
  {
   "cell_type": "code",
   "execution_count": null,
   "id": "458600b0",
   "metadata": {},
   "outputs": [],
   "source": [
    "%load_ext autoreload\n",
    "%autoreload 2"
   ]
  },
  {
   "cell_type": "code",
   "execution_count": null,
   "id": "4b9bdae8",
   "metadata": {},
   "outputs": [],
   "source": [
    "from WebGuiSqlite import *"
   ]
  },
  {
   "cell_type": "markdown",
   "id": "3cd42aa3",
   "metadata": {},
   "source": [
    "<hr style=\"border: 10px solid green;  border-radius: 5px;   margin-top: 0px; margin-bottom: 0px;\">\n",
    "\n",
    "### Upload Excel"
   ]
  },
  {
   "cell_type": "code",
   "execution_count": null,
   "id": "4d3cb756",
   "metadata": {},
   "outputs": [],
   "source": [
    "import ipywidgets as widgets\n",
    "import io\n",
    "import pandas as pd"
   ]
  },
  {
   "cell_type": "code",
   "execution_count": null,
   "id": "b9472c27",
   "metadata": {},
   "outputs": [],
   "source": [
    "xls_uploader = widgets.FileUpload(\n",
    "    accept='*.xls',\n",
    "    multiple=False \n",
    ")\n",
    "\n",
    "display(xls_uploader)"
   ]
  },
  {
   "cell_type": "code",
   "execution_count": null,
   "id": "a3a6d945",
   "metadata": {},
   "outputs": [],
   "source": [
    "xls_uploader.metadata"
   ]
  },
  {
   "cell_type": "markdown",
   "id": "e9c10d17",
   "metadata": {},
   "source": [
    "<hr style=\"border: 10px solid green;  border-radius: 5px;   margin-top: 0px; margin-bottom: 0px;\">\n",
    "\n",
    "### Online converting Excel-file to SQLite-file via pandas"
   ]
  },
  {
   "cell_type": "code",
   "execution_count": null,
   "id": "ae473940",
   "metadata": {},
   "outputs": [],
   "source": [
    "import pandas as pd\n",
    "import sqlite3\n",
    "import os.path\n",
    "\n",
    "ioData = io.BytesIO(xls_uploader.data[0])\n",
    "con = sqlite3.connect(\":memory:\")\n",
    "wb = pd.ExcelFile(ioData)\n",
    "for sheet in wb.sheet_names:\n",
    "  df=pd.read_excel(ioData,sheet_name=sheet)\n",
    "  df.to_sql(sheet,con, index=False,if_exists=\"replace\")\n",
    "con.commit()\n",
    "\n",
    "os.path.splitext(xls_uploader.metadata[0]['name'])\n",
    "dbPath = os.path.splitext(xls_uploader.metadata[0]['name'])[0] + '.sqlite'\n",
    "db_disk = sqlite3.connect(dbPath)\n",
    "con.backup(db_disk)\n",
    "con.close()"
   ]
  },
  {
   "cell_type": "code",
   "execution_count": null,
   "id": "7ee44fb9",
   "metadata": {},
   "outputs": [],
   "source": [
    "from IPython.display import FileLink\n",
    "display(FileLink(dbPath))"
   ]
  },
  {
   "cell_type": "markdown",
   "id": "cea35792",
   "metadata": {},
   "source": [
    "<hr style=\"border: 4px solid green;  border-radius: 5px;   margin-top: 0px; margin-bottom: 0px;\">\n",
    "\n",
    "###  Upload and explore SQLite-file"
   ]
  },
  {
   "cell_type": "code",
   "execution_count": null,
   "id": "e5596155",
   "metadata": {},
   "outputs": [],
   "source": [
    "os.system(\"pkill -f 'python -m http.server'\")\n",
    "os.system('python -m http.server -d \"site\" 8002 > /dev/null 2>&1 &')"
   ]
  },
  {
   "cell_type": "code",
   "execution_count": null,
   "id": "f046b199",
   "metadata": {},
   "outputs": [],
   "source": [
    "!ps -ef | grep 'python -m http.server' | grep -v grep"
   ]
  },
  {
   "cell_type": "code",
   "execution_count": null,
   "id": "83cac78f",
   "metadata": {},
   "outputs": [],
   "source": [
    "script = '''<script>window.location.assign(\"http://%s:8002/site1/Web-GUI-for-SQLite.html\");</script>''' % socket.gethostname()\n",
    "popup('', cell=script)"
   ]
  },
  {
   "cell_type": "code",
   "execution_count": null,
   "id": "df9d8049",
   "metadata": {},
   "outputs": [],
   "source": [
    "script = '''<script>window.location.assign(\"http://%s:8002/site2/index.html\");</script>''' % socket.gethostname()\n",
    "popup('1000,700', cell=script)"
   ]
  },
  {
   "cell_type": "markdown",
   "id": "560e2ef7",
   "metadata": {},
   "source": [
    "<hr style=\"border: 10px solid green;  border-radius: 5px;   margin-top: 0px; margin-bottom: 0px;\">"
   ]
  },
  {
   "cell_type": "code",
   "execution_count": null,
   "id": "156f1ea6",
   "metadata": {},
   "outputs": [],
   "source": [
    "!pkill -f 'python -m http.server'\n",
    "!ps -ef | grep 'python -m http.server' | grep -v grep"
   ]
  },
  {
   "cell_type": "code",
   "execution_count": null,
   "id": "98943c73",
   "metadata": {},
   "outputs": [],
   "source": []
  }
 ],
 "metadata": {
  "kernelspec": {
   "display_name": "*Python3* (singularity)",
   "language": "python",
   "name": "python3"
  },
  "language_info": {
   "codemirror_mode": {
    "name": "ipython",
    "version": 3
   },
   "file_extension": ".py",
   "mimetype": "text/x-python",
   "name": "python",
   "nbconvert_exporter": "python",
   "pygments_lexer": "ipython3",
   "version": "3.9.5"
  },
  "varInspector": {
   "cols": {
    "lenName": 16,
    "lenType": 16,
    "lenVar": 40
   },
   "kernels_config": {
    "python": {
     "delete_cmd_postfix": "",
     "delete_cmd_prefix": "del ",
     "library": "var_list.py",
     "varRefreshCmd": "print(var_dic_list())"
    },
    "r": {
     "delete_cmd_postfix": ") ",
     "delete_cmd_prefix": "rm(",
     "library": "var_list.r",
     "varRefreshCmd": "cat(var_dic_list()) "
    }
   },
   "types_to_exclude": [
    "module",
    "function",
    "builtin_function_or_method",
    "instance",
    "_Feature"
   ],
   "window_display": false
  }
 },
 "nbformat": 4,
 "nbformat_minor": 5
}
